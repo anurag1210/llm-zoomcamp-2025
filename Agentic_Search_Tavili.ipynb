{
  "nbformat": 4,
  "nbformat_minor": 0,
  "metadata": {
    "colab": {
      "provenance": [],
      "authorship_tag": "ABX9TyPvEvTUgLxsVIrzmMuThqxI",
      "include_colab_link": true
    },
    "kernelspec": {
      "name": "python3",
      "display_name": "Python 3"
    },
    "language_info": {
      "name": "python"
    }
  },
  "cells": [
    {
      "cell_type": "markdown",
      "metadata": {
        "id": "view-in-github",
        "colab_type": "text"
      },
      "source": [
        "<a href=\"https://colab.research.google.com/github/anurag1210/llm-zoomcamp-2025/blob/main/Agentic_Search_Tavili.ipynb\" target=\"_parent\"><img src=\"https://colab.research.google.com/assets/colab-badge.svg\" alt=\"Open In Colab\"/></a>"
      ]
    },
    {
      "cell_type": "code",
      "execution_count": 10,
      "metadata": {
        "id": "FquEQcwPFuu1"
      },
      "outputs": [],
      "source": [
        "#Loading the environment variables\n",
        "\n",
        "import os\n",
        "from openai import OpenAI\n",
        "import re\n",
        "import httpx\n",
        "import os\n",
        "from tavily import TavilyClient\n",
        "\n",
        "os.environ[\"TAVILY_API_KEY\"] = \"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\"\n",
        "\n",
        "client = TavilyClient(\n",
        "    # This is the default and can be omitted\n",
        "    api_key=os.environ.get(\"TAVILY_API_KEY\"),\n",
        ")\n"
      ]
    },
    {
      "cell_type": "code",
      "source": [
        "# run search\n",
        "result = client.search(\"What is in Nvidia's new Blackwell GPU?\",\n",
        "                       include_answer=True)\n",
        "\n",
        "# print the answer\n",
        "result[\"answer\"]\n"
      ],
      "metadata": {
        "colab": {
          "base_uri": "https://localhost:8080/",
          "height": 54
        },
        "id": "HxrmGMKXam3F",
        "outputId": "ff0dc2b1-47f6-404e-817c-24fe16d87126"
      },
      "execution_count": 13,
      "outputs": [
        {
          "output_type": "execute_result",
          "data": {
            "text/plain": [
              "'The Blackwell GPU features a custom TSMC 4NP process, 208 billion transistors, and a 10 TB/s interconnect. It supports GDDR7 and HBM3e memory, and offers up to 20 petaflops of FP4 performance.'"
            ],
            "application/vnd.google.colaboratory.intrinsic+json": {
              "type": "string"
            }
          },
          "metadata": {},
          "execution_count": 13
        }
      ]
    },
    {
      "cell_type": "code",
      "source": [
        "# choose location (try to change to your own city!)\n",
        "\n",
        "city = \"San Francisco\"\n",
        "\n",
        "query = f\"\"\"\n",
        "    what is the current weather in {city}?\n",
        "    Should I travel there today?\n",
        "\n",
        "\"\"\""
      ],
      "metadata": {
        "id": "0tK3po-qmZAU"
      },
      "execution_count": 14,
      "outputs": []
    },
    {
      "cell_type": "code",
      "source": [
        "!pip install duckduckgo_search"
      ],
      "metadata": {
        "colab": {
          "base_uri": "https://localhost:8080/"
        },
        "id": "N--77FoPpZy2",
        "outputId": "91dea75f-c01e-44fc-f351-2c02e0b1139c"
      },
      "execution_count": 16,
      "outputs": [
        {
          "output_type": "stream",
          "name": "stdout",
          "text": [
            "Collecting duckduckgo_search\n",
            "  Downloading duckduckgo_search-8.0.4-py3-none-any.whl.metadata (16 kB)\n",
            "Requirement already satisfied: click>=8.1.8 in /usr/local/lib/python3.11/dist-packages (from duckduckgo_search) (8.2.1)\n",
            "Collecting primp>=0.15.0 (from duckduckgo_search)\n",
            "  Downloading primp-0.15.0-cp38-abi3-manylinux_2_17_x86_64.manylinux2014_x86_64.whl.metadata (13 kB)\n",
            "Requirement already satisfied: lxml>=5.3.0 in /usr/local/lib/python3.11/dist-packages (from duckduckgo_search) (5.4.0)\n",
            "Downloading duckduckgo_search-8.0.4-py3-none-any.whl (18 kB)\n",
            "Downloading primp-0.15.0-cp38-abi3-manylinux_2_17_x86_64.manylinux2014_x86_64.whl (3.3 MB)\n",
            "\u001b[2K   \u001b[90m━━━━━━━━━━━━━━━━━━━━━━━━━━━━━━━━━━━━━━━━\u001b[0m \u001b[32m3.3/3.3 MB\u001b[0m \u001b[31m35.2 MB/s\u001b[0m eta \u001b[36m0:00:00\u001b[0m\n",
            "\u001b[?25hInstalling collected packages: primp, duckduckgo_search\n",
            "Successfully installed duckduckgo_search-8.0.4 primp-0.15.0\n"
          ]
        }
      ]
    },
    {
      "cell_type": "code",
      "source": [
        "import requests\n",
        "from bs4 import BeautifulSoup\n",
        "from duckduckgo_search import DDGS\n",
        "import re\n",
        "\n",
        "ddg = DDGS()\n",
        "\n",
        "def search(query, max_results=6):\n",
        "    try:\n",
        "        results = ddg.text(query, max_results=max_results)\n",
        "        return [i[\"href\"] for i in results]\n",
        "    except Exception as e:\n",
        "        print(f\"returning previous results due to exception reaching ddg.\")\n",
        "        results = [ # cover case where DDG rate limits due to high deeplearning.ai volume\n",
        "            \"https://weather.com/weather/today/l/USCA0987:1:US\",\n",
        "            \"https://weather.com/weather/hourbyhour/l/54f9d8baac32496f6b5497b4bf7a277c3e2e6cc5625de69680e6169e7e38e9a8\",\n",
        "        ]\n",
        "        return results\n",
        "\n",
        "\n",
        "for i in search(query):\n",
        "    print(i)"
      ],
      "metadata": {
        "colab": {
          "base_uri": "https://localhost:8080/"
        },
        "id": "wz_6czxDnxKk",
        "outputId": "c3446681-b38a-450e-e0dd-096ae6e3768e"
      },
      "execution_count": 17,
      "outputs": [
        {
          "output_type": "stream",
          "name": "stdout",
          "text": [
            "https://www.easeweather.com/north-america/united-states/california/san-francisco/today\n",
            "https://www.accuweather.com/en/us/san-francisco/94103/weather-forecast/347629\n",
            "https://forecast.weather.gov/zipcity.php?inputstring=San+Francisco,CA\n",
            "https://weather.com/weather/today/l/San+Francisco+CA?placeId=82b02ba7ed07c1ef0050ee6f71b8943f2cf24489c2a7645da321493514deb881\n",
            "https://www.weather-us.com/en/california-usa/san-francisco\n",
            "https://www.localconditions.com/us/san-francisco/california/weather/\n"
          ]
        }
      ]
    },
    {
      "cell_type": "code",
      "source": [
        "def scrape_weather_info(url):\n",
        "    \"\"\"Scrape content from the given URL\"\"\"\n",
        "    if not url:\n",
        "        return \"Weather information could not be found.\"\n",
        "\n",
        "    # fetch data\n",
        "    headers = {'User-Agent': 'Mozilla/5.0'}\n",
        "    response = requests.get(url, headers=headers)\n",
        "    if response.status_code != 200:\n",
        "        return \"Failed to retrieve the webpage.\"\n",
        "\n",
        "    # parse result\n",
        "    soup = BeautifulSoup(response.text, 'html.parser')\n",
        "    return soup\n"
      ],
      "metadata": {
        "id": "ZplQv_EqpWdc"
      },
      "execution_count": 18,
      "outputs": []
    },
    {
      "cell_type": "code",
      "source": [
        "# use DuckDuckGo to find websites and take the first result\n",
        "url = search(query)[0]\n",
        "\n",
        "# scrape first wesbsite\n",
        "soup = scrape_weather_info(url)\n",
        "\n",
        "print(f\"Website: {url}\\n\\n\")\n",
        "print(str(soup.body)[:50000]) # limit long outputs"
      ],
      "metadata": {
        "colab": {
          "base_uri": "https://localhost:8080/"
        },
        "id": "ZZ4qW2-6pjeI",
        "outputId": "9a45b2e0-5ee2-47b6-f016-76487dbdf88b"
      },
      "execution_count": 19,
      "outputs": [
        {
          "output_type": "stream",
          "name": "stdout",
          "text": [
            "Website: https://www.easeweather.com/north-america/united-states/california/san-francisco/today\n",
            "\n",
            "\n",
            "<body class=\"today-page desktop-device\"><div class=\"blanket\" id=\"blanket\"></div><header class=\"header\"> <div class=\"section-wide-wrap flex header-inner-wrap\"> <a class=\"logo-wrap\" href=\"https://www.easeweather.com\"><img alt=\"easeweather.com\" height=\"37\" src=\"https://www.easeweather.com/images/easeweather.com.svg\" title=\"easeweather.com\" width=\"195\"/></a> <div class=\"search-and-hamburger flex-top\"> <div class=\"search-box-wrap\"> <div class=\"search-wrap\"><input class=\"search-box\" id=\"search-box\" placeholder=\"Search for a location\"/><span class=\"search-x\"></span></div> <div class=\"search-recent-locations\"></div> </div><div class=\"search-button\"></div> <div class=\"hamburger-icon\"></div><div class=\"hamburger-content\"> <div class=\"hamburger-title first-hamburger-title\">Units</div> <div class=\"unit-changer hamburger_option\"> <div data-type=\"c\">°C</div> <label aria-label=\"Units\" class=\"switch\" for=\"temp-changer\"> <input id=\"temp-changer\" type=\"checkbox\"/> <span class=\"slider round\"></span> </label> <div data-type=\"f\">°F</div> </div> <div class=\"hamburger-title\">San Francisco</div> <a class=\"hamburger-link\" href=\"https://www.easeweather.com/north-america/united-states/california/san-francisco\">Forecast</a> <a class=\"hamburger-link\" href=\"https://www.easeweather.com/north-america/united-states/california/san-francisco/today\">Today</a> <a class=\"hamburger-link last\" href=\"https://www.easeweather.com/north-america/united-states/california/san-francisco/tomorrow\">Tomorrow</a> <div class=\"hamburger-title\">More destinations</div><a class=\"hamburger-link\" href=\"https://www.easeweather.com/north-america/united-states/california\">California</a> <a class=\"hamburger-link last\" href=\"https://www.easeweather.com/north-america/united-states\">United States</a> <div class=\"hamburger-title\">Search for a location</div><a class=\"hamburger-link hamburger-search last\" href=\"https://www.easeweather.com/search\">Search</a> </div> </div> </div></header><nav class=\"navbar right-fade left-fade\"> <div class=\"inner-navbar slim-section-wrap flex-left\"> <a href=\"https://www.easeweather.com/north-america/united-states/california/san-francisco\">Forecast</a><a href=\"https://www.easeweather.com/north-america/united-states/california/san-francisco/june\">June</a><a href=\"https://www.easeweather.com/north-america/united-states/california/san-francisco/july\">July</a><a class=\"active\" href=\"https://www.easeweather.com/north-america/united-states/california/san-francisco/today\">Today</a><a href=\"https://www.easeweather.com/north-america/united-states/california/san-francisco/tomorrow\">Tomorrow</a><a href=\"https://www.easeweather.com/north-america/united-states/california/san-francisco/past\">History</a><a href=\"https://www.easeweather.com/north-america/united-states/california/san-francisco/webcam\">Webcam</a> </div></nav><div class=\"flex-top section-wrap table-and-content first-section\"> <main class=\"page-content\"> <div class=\"flex-left dropdowns\"> <div class=\"custom-select-container select cities-dropdown-wrap\"> <div class=\"custom-select-selected\">San Francisco (CA)</div> <div class=\"custom-select-options\"> <a class=\"custom-select-option\" data-id=\"2198634\" href=\"https://www.easeweather.com/north-america/united-states/ohio/summit-county/akron/today\">Akron (OH)</a><a class=\"custom-select-option\" data-id=\"3498\" href=\"https://www.easeweather.com/north-america/united-states/new-mexico/bernalillo-county/albuquerque/today\">Albuquerque (NM)</a><a class=\"custom-select-option\" data-id=\"2158886\" href=\"https://www.easeweather.com/north-america/united-states/virginia/city-of-alexandria/alexandria/today\">Alexandria (VA)</a><a class=\"custom-select-option\" data-id=\"3523\" href=\"https://www.easeweather.com/north-america/united-states/california/orange-county/anaheim/today\">Anaheim (CA)</a><a class=\"custom-select-option\" data-id=\"3534\" href=\"https://www.easeweather.com/north-america/united-states/alaska/anchorage-municipality/anchorage/today\">Anchorage (AK)</a><a class=\"custom-select-option\" data-id=\"2159003\" href=\"https://www.easeweather.com/north-america/united-states/virginia/arlington-county/arlington/today\">Arlington (VA)</a><a class=\"custom-select-option\" data-id=\"3507\" href=\"https://www.easeweather.com/north-america/united-states/georgia/fulton-county/atlanta/today\">Atlanta (GA)</a><a class=\"custom-select-option\" data-id=\"2134353\" href=\"https://www.easeweather.com/north-america/united-states/new-jersey/atlantic-county/atlantic-city/today\">Atlantic City (NJ)</a><a class=\"custom-select-option\" data-id=\"3477\" href=\"https://www.easeweather.com/north-america/united-states/texas/travis-county/austin/today\">Austin (TX)</a><a class=\"custom-select-option\" data-id=\"3496\" href=\"https://www.easeweather.com/north-america/united-states/maryland/city-of-baltimore/baltimore/today\">Baltimore (MD)</a><a class=\"custom-select-option\" data-id=\"2110507\" href=\"https://www.easeweather.com/north-america/united-states/louisiana/east-baton-rouge-parish/baton-rouge/today\">Baton Rouge (LA)</a><a class=\"custom-select-option\" data-id=\"2079707\" href=\"https://www.easeweather.com/north-america/united-states/alabama/jefferson-county/birmingham/today\">Birmingham (AL)</a><a class=\"custom-select-option\" data-id=\"3490\" href=\"https://www.easeweather.com/north-america/united-states/massachusetts/suffolk-county/boston/today\">Boston (MA)</a><a class=\"custom-select-option\" data-id=\"3080\" href=\"https://www.easeweather.com/north-america/united-states/new-york/kings-county/brooklyn/today\">Brooklyn (NY)</a><a class=\"custom-select-option\" data-id=\"3548\" href=\"https://www.easeweather.com/north-america/united-states/new-york/erie-county/buffalo/today\">Buffalo (NY)</a><a class=\"custom-select-option\" data-id=\"2091052\" href=\"https://www.easeweather.com/north-america/united-states/florida/lee-county/cape-coral/today\">Cape Coral (FL)</a><a class=\"custom-select-option\" data-id=\"3481\" href=\"https://www.easeweather.com/north-america/united-states/north-carolina/mecklenburg-county/charlotte/today\">Charlotte (NC)</a><a class=\"custom-select-option\" data-id=\"2146390\" href=\"https://www.easeweather.com/north-america/united-states/tennessee/hamilton-county/chattanooga/today\">Chattanooga (TN)</a><a class=\"custom-select-option\" data-id=\"3081\" href=\"https://www.easeweather.com/north-america/united-states/illinois/cook-county/chicago/today\">Chicago (IL)</a><a class=\"custom-select-option\" data-id=\"3530\" href=\"https://www.easeweather.com/north-america/united-states/ohio/hamilton-county/cincinnati/today\">Cincinnati (OH)</a><a class=\"custom-select-option\" data-id=\"3518\" href=\"https://www.easeweather.com/north-america/united-states/ohio/cuyahoga-county/cleveland/today\">Cleveland (OH)</a><a class=\"custom-select-option\" data-id=\"3508\" href=\"https://www.easeweather.com/north-america/united-states/colorado/el-paso-county/colorado-springs/today\">Colorado Springs (CO)</a><a class=\"custom-select-option\" data-id=\"3479\" href=\"https://www.easeweather.com/north-america/united-states/ohio/franklin-county/columbus/today\">Columbus (OH)</a><a class=\"custom-select-option\" data-id=\"3526\" href=\"https://www.easeweather.com/north-america/united-states/texas/nueces-county/corpus-christi/today\">Corpus Christi (TX)</a><a class=\"custom-select-option\" data-id=\"3474\" href=\"https://www.easeweather.com/north-america/united-states/texas/dallas-county/dallas/today\">Dallas (TX)</a><a class=\"custom-select-option\" data-id=\"2135867\" href=\"https://www.easeweather.com/north-america/united-states/ohio/montgomery-county/dayton/today\">Dayton (OH)</a><a class=\"custom-select-option\" data-id=\"3484\" href=\"https://www.easeweather.com/north-america/united-states/colorado/denver-county/denver/today\">Denver (CO)</a><a class=\"custom-select-option\" data-id=\"2173074\" href=\"https://www.easeweather.com/north-america/united-states/iowa/polk-county/des-moines/today\">Des Moines (IA)</a><a class=\"custom-select-option\" data-id=\"3489\" href=\"https://www.easeweather.com/north-america/united-states/michigan/wayne-county/detroit/today\">Detroit (MI)</a><a class=\"custom-select-option\" data-id=\"3487\" href=\"https://www.easeweather.com/north-america/united-states/texas/el-paso-county/el-paso/today\">El Paso (TX)</a><a class=\"custom-select-option\" data-id=\"2240119\" href=\"https://www.easeweather.com/north-america/united-states/alaska/fairbanks-north-star-borough/fairbanks/today\">Fairbanks (AK)</a><a class=\"custom-select-option\" data-id=\"2130592\" href=\"https://www.easeweather.com/north-america/united-states/north-carolina/cumberland-county/fayetteville/today\">Fayetteville (NC)</a><a class=\"custom-select-option\" data-id=\"2091644\" href=\"https://www.easeweather.com/north-america/united-states/florida/broward-county/fort-lauderdale/today\">Fort Lauderdale (FL)</a><a class=\"custom-select-option\" data-id=\"3547\" href=\"https://www.easeweather.com/north-america/united-states/indiana/allen-county/fort-wayne/today\">Fort Wayne (IN)</a><a class=\"custom-select-option\" data-id=\"3478\" href=\"https://www.easeweather.com/north-america/united-states/texas/tarrant-county/fort-worth/today\">Fort Worth (TX)</a><a class=\"custom-select-option\" data-id=\"2147522\" href=\"https://www.easeweather.com/north-america/united-states/tennessee/sevier-county/gatlinburg/today\">Gatlinburg (TN)</a><a class=\"custom-select-option\" data-id=\"2183998\" href=\"https://www.easeweather.com/north-america/united-states/michigan/kent-county/grand-rapids/today\">Grand Rapids (MI)</a><a class=\"custom-select-option\" data-id=\"2204912\" href=\"https://www.easeweather.com/north-america/united-states/pennsylvania/dauphin-county/harrisburg/today\">Harrisburg (PA)</a><a class=\"custom-select-option\" data-id=\"3521\" href=\"https://www.easeweather.com/north-america/united-states/hawaii/honolulu-county/honolulu/today\">Honolulu (HI)</a><a class=\"custom-select-option\" data-id=\"3082\" href=\"https://www.easeweather.com/north-america/united-states/texas/harris-county/houston/today\">Houston (TX)</a><a class=\"custom-select-option\" data-id=\"2081673\" href=\"https://www.easeweather.com/north-america/united-states/alabama/madison-county/huntsville/today\">Huntsville (AL)</a><a class=\"custom-select-option\" data-id=\"3480\" href=\"https://www.easeweather.com/north-america/united-states/indiana/marion-county/indianapolis/today\">Indianapolis (IN)</a><a class=\"custom-select-option\" data-id=\"2127383\" href=\"https://www.easeweather.com/north-america/united-states/mississippi/hinds-county/jackson/today\">Jackson (MS)</a><a class=\"custom-select-option\" data-id=\"3476\" href=\"https://www.easeweather.com/north-america/united-states/florida/duval-county/jacksonville/today\">Jacksonville (FL)</a><a class=\"custom-select-option\" data-id=\"2227273\" href=\"https://www.easeweather.com/north-america/united-states/alaska/juneau-city-and-borough/juneau/today\">Juneau (AK)</a><a class=\"custom-select-option\" data-id=\"3503\" href=\"https://www.easeweather.com/north-america/united-states/missouri/jackson-county/kansas-city/today\">Kansas City (MO)</a><a class=\"custom-select-option\" data-id=\"2227294\" href=\"https://www.easeweather.com/north-america/united-states/alaska/ketchikan-gateway-borough/ketchikan/today\">Ketchikan (AK)</a><a class=\"custom-select-option\" data-id=\"2092135\" href=\"https://www.easeweather.com/north-america/united-states/florida/monroe-county/key-west/today\">Key West (FL)</a><a class=\"custom-select-option\" data-id=\"2148512\" href=\"https://www.easeweather.com/north-america/united-states/tennessee/knox-county/knoxville/today\">Knoxville (TN)</a><a class=\"custom-select-option\" data-id=\"3494\" href=\"https://www.easeweather.com/north-america/united-states/nevada/clark-county/las-vegas/today\">Las Vegas (NV)</a><a class=\"custom-select-option\" data-id=\"2108225\" href=\"https://www.easeweather.com/north-america/united-states/kentucky/fayette-county/lexington/today\">Lexington (KY)</a><a class=\"custom-select-option\" data-id=\"3543\" href=\"https://www.easeweather.com/north-america/united-states/nebraska/lancaster-county/lincoln/today\">Lincoln (NE)</a><a class=\"custom-select-option\" data-id=\"2086792\" href=\"https://www.easeweather.com/north-america/united-states/arkansas/pulaski-county/little-rock/today\">Little Rock (AR)</a><a class=\"custom-select-option\" data-id=\"3079\" href=\"https://www.easeweather.com/north-america/united-states/california/los-angeles-county/los-angeles/today\">Los Angeles (CA)</a><a class=\"custom-select-option\" data-id=\"3558\" href=\"https://www.easeweather.com/north-america/united-states/kentucky/jefferson-county/louisville/today\">Louisville (KY)</a><a class=\"custom-select-option\" data-id=\"3554\" href=\"https://www.easeweather.com/north-america/united-states/wisconsin/dane-county/madison/today\">Madison (WI)</a><a class=\"custom-select-option\" data-id=\"3470\" href=\"https://www.easeweather.com/north-america/united-states/new-york/new-york-county/manhattan/today\">Manhattan (NY)</a><a class=\"custom-select-option\" data-id=\"3493\" href=\"https://www.easeweather.com/north-america/united-states/tennessee/shelby-county/memphis/today\">Memphis (TN)</a><a class=\"custom-select-option\" data-id=\"3511\" href=\"https://www.easeweather.com/north-america/united-states/florida/miami-dade-county/miami/today\">Miami (FL)</a><a class=\"custom-select-option\" data-id=\"3495\" href=\"https://www.easeweather.com/north-america/united-states/wisconsin/milwaukee-county/milwaukee/today\">Milwaukee (WI)</a><a class=\"custom-select-option\" data-id=\"3514\" href=\"https://www.easeweather.com/north-america/united-states/minnesota/hennepin-county/minneapolis/today\">Minneapolis (MN)</a><a class=\"custom-select-option\" data-id=\"2082444\" href=\"https://www.easeweather.com/north-america/united-states/alabama/mobile-county/mobile/today\">Mobile (AL)</a><a class=\"custom-select-option\" data-id=\"2082466\" href=\"https://www.easeweather.com/north-america/united-states/alabama/montgomery-county/montgomery/today\">Montgomery (AL)</a><a class=\"custom-select-option\" data-id=\"3486\" href=\"https://www.easeweather.com/north-america/united-states/tennessee/davidson-county/nashville/today\">Nashville (TN)</a><a class=\"custom-select-option\" data-id=\"3516\" href=\"https://www.easeweather.com/north-america/united-states/louisiana/orleans-parish/new-orleans/today\">New Orleans (LA)</a><a class=\"custom-select-option\" data-id=\"3078\" href=\"https://www.easeweather.com/north-america/united-states/new-york/new-york-city/today\">New York City (NY)</a><a class=\"custom-select-option\" data-id=\"3541\" href=\"https://www.easeweather.com/north-america/united-states/new-jersey/essex-county/newark/today\">Newark (NJ)</a><a class=\"custom-select-option\" data-id=\"3556\" href=\"https://www.easeweather.com/north-america/united-states/virginia/city-of-norfolk/norfolk/today\">Norfolk (VA)</a><a class=\"custom-select-option\" data-id=\"3488\" href=\"https://www.easeweather.com/north-america/united-states/oklahoma/oklahoma-county/oklahoma-city/today\">Oklahoma City (OK)</a><a class=\"custom-select-option\" data-id=\"3502\" href=\"https://www.easeweather.com/north-america/united-states/nebraska/douglas-county/omaha/today\">Omaha (NE)</a><a class=\"custom-select-option\" data-id=\"3531\" href=\"https://www.easeweather.com/north-america/united-states/florida/orange-county/orlando/today\">Orlando (FL)</a><a class=\"custom-select-option\" data-id=\"3469\" href=\"https://www.easeweather.com/north-america/united-states/pennsylvania/philadelphia-county/philadelphia/today\">Philadelphia (PA)</a><a class=\"custom-select-option\" data-id=\"3468\" href=\"https://www.easeweather.com/north-america/united-states/arizona/maricopa-county/phoenix/today\">Phoenix (AZ)</a><a class=\"custom-select-option\" data-id=\"3533\" href=\"https://www.easeweather.com/north-america/united-states/pennsylvania/allegheny-county/pittsburgh/today\">Pittsburgh (PA)</a><a class=\"custom-select-option\" data-id=\"3491\" href=\"https://www.easeweather.com/north-america/united-states/oregon/multnomah-county/portland/today\">Portland (OR)</a><a class=\"custom-select-option\" data-id=\"2164711\" href=\"https://www.easeweather.com/north-america/united-states/virginia/city-of-richmond/richmond/today\">Richmond (VA)</a><a class=\"custom-select-option\" data-id=\"3527\" href=\"https://www.easeweather.com/north-america/united-states/california/riverside-county/riverside/today\">Riverside (CA)</a><a class=\"custom-select-option\" data-id=\"3501\" href=\"https://www.easeweather.com/north-america/united-states/california/sacramento-county/sacramento/today\">Sacramento (CA)</a><a class=\"custom-select-option\" data-id=\"2235855\" href=\"https://www.easeweather.com/north-america/united-states/utah/salt-lake-county/salt-lake-city/today\">Salt Lake City (UT)</a><a class=\"custom-select-option\" data-id=\"3471\" href=\"https://www.easeweather.com/north-america/united-states/texas/bexar-county/san-antonio/today\">San Antonio (TX)</a><a class=\"custom-select-option\" data-id=\"3472\" href=\"https://www.easeweather.com/north-america/united-states/california/san-diego-county/san-diego/today\">San Diego (CA)</a><a class=\"custom-select-option\" data-id=\"3482\" href=\"https://www.easeweather.com/north-america/united-states/california/city-and-county-of-san-francisco/san-francisco\">San Francisco (CA)</a><a class=\"custom-select-option\" data-id=\"3475\" href=\"https://www.easeweather.com/north-america/united-states/california/santa-clara-county/san-jose/today\">San Jose (CA)</a><a class=\"custom-select-option\" data-id=\"2099215\" href=\"https://www.easeweather.com/north-america/united-states/georgia/chatham-county/savannah/today\">Savannah (GA)</a><a class=\"custom-select-option\" data-id=\"3483\" href=\"https://www.easeweather.com/north-america/united-states/washington/king-county/seattle/today\">Seattle (WA)</a><a class=\"custom-select-option\" data-id=\"2113285\" href=\"https://www.easeweather.com/north-america/united-states/louisiana/caddo-parish/shreveport/today\">Shreveport (LA)</a><a class=\"custom-select-option\" data-id=\"2227417\" href=\"https://www.easeweather.com/north-america/united-states/alaska/skagway-municipality/skagway/today\">Skagway (AK)</a><a class=\"custom-select-option\" data-id=\"2125455\" href=\"https://www.easeweather.com/north-america/united-states/missouri/greene-county/springfield/today\">Springfield (MO)</a><a class=\"custom-select-option\" data-id=\"3528\" href=\"https://www.easeweather.com/north-america/united-states/missouri/city-of-saint-louis/st-louis/today\">St. Louis (MO)</a><a class=\"custom-select-option\" data-id=\"3550\" href=\"https://www.easeweather.com/north-america/united-states/florida/pinellas-county/st-petersburg/today\">St. Petersburg (FL)</a><a class=\"custom-select-option\" data-id=\"2093584\" href=\"https://www.easeweather.com/north-america/united-states/florida/leon-county/tallahassee/today\">Tallahassee (FL)</a><a class=\"custom-select-option\" data-id=\"3519\" href=\"https://www.easeweather.com/north-america/united-states/florida/hillsborough-county/tampa/today\">Tampa (FL)</a><a class=\"custom-select-option\" data-id=\"3542\" href=\"https://www.easeweather.com/north-america/united-states/ohio/lucas-county/toledo/today\">Toledo (OH)</a><a class=\"custom-select-option\" data-id=\"2185504\" href=\"https://www.easeweather.com/north-america/united-states/michigan/grand-traverse-county/traverse-city/today\">Traverse City (MI)</a><a class=\"custom-select-option\" data-id=\"3513\" href=\"https://www.easeweather.com/north-america/united-states/oklahoma/tulsa-county/tulsa/today\">Tulsa (OK)</a><a class=\"custom-select-option\" data-id=\"2158244\" href=\"https://www.easeweather.com/north-america/united-states/texas/smith-county/tyler/today\">Tyler (TX)</a><a class=\"custom-select-option\" data-id=\"2238535\" href=\"https://www.easeweather.com/north-america/united-states/washington/clark-county/vancouver/today\">Vancouver (WA)</a><a class=\"custom-select-option\" data-id=\"3509\" href=\"https://www.easeweather.com/north-america/united-states/virginia/city-of-virginia-beach/virginia-beach/today\">Virginia Beach (VA)</a><a class=\"custom-select-option\" data-id=\"3485\" href=\"https://www.easeweather.com/north-america/united-states/washington-dc/washington-county/washington/today\">Washington</a><a class=\"custom-select-option\" data-id=\"3515\" href=\"https://www.easeweather.com/north-america/united-states/kansas/sedgwick-county/wichita/today\">Wichita (KS)</a><a class=\"custom-select-option\" data-id=\"3560\" href=\"https://www.easeweather.com/north-america/united-states/north-carolina/forsyth-county/winston-salem/today\">Winston-Salem (NC)</a> <a class=\"custom-select-option link-button\" data-id=\"more\" href=\"https://www.easeweather.com/search\">More Locations</a> </div> <img alt=\"United States weather\" class=\"dropdown-flag\" height=\"20\" loading=\"lazy\" src=\"https://res.easeweather.com/images/flags/united-states.svg\" title=\"United States weather\" width=\"20\"/> </div> <div class=\"custom-select-container select\" id=\"today-date-select\"> <div class=\"custom-select-selected\">Today</div> <div class=\"custom-select-options\"> <div class=\"selected custom-select-option\" data-id=\"date\">Today</div><a class=\"custom-select-option\" data-id=\"date\" href=\"https://www.easeweather.com/north-america/united-states/california/san-francisco/tomorrow\">Tomorrow</a><a class=\"custom-select-option\" data-id=\"date\" href=\"https://www.easeweather.com/north-america/united-states/california/san-francisco/day#date=2025-06-29\">Sunday, Jun. 29</a><a class=\"custom-select-option\" data-id=\"date\" href=\"https://www.easeweather.com/north-america/united-states/california/san-francisco/day#date=2025-06-30\">Monday, Jun. 30</a><a class=\"custom-select-option\" data-id=\"date\" href=\"https://www.easeweather.com/north-america/united-states/california/san-francisco/day#date=2025-07-01\">Tuesday, Jul. 1</a><a class=\"custom-select-option\" data-id=\"date\" href=\"https://www.easeweather.com/north-america/united-states/california/san-francisco/day#date=2025-07-02\">Wednesday, Jul. 2</a><a class=\"custom-select-option\" data-id=\"date\" href=\"https://www.easeweather.com/north-america/united-states/california/san-francisco/day#date=2025-07-03\">Thursday, Jul. 3</a><a class=\"custom-select-option\" data-id=\"date\" href=\"https://www.easeweather.com/north-america/united-states/california/san-francisco/day#date=2025-07-04\">Friday, Jul. 4</a><a class=\"custom-select-option\" data-id=\"date\" href=\"https://www.easeweather.com/north-america/united-states/california/san-francisco/day#date=2025-07-05\">Saturday, Jul. 5</a><a class=\"custom-select-option\" data-id=\"date\" href=\"https://www.easeweather.com/north-america/united-states/california/san-francisco/day#date=2025-07-06\">Sunday, Jul. 6</a><a class=\"custom-select-option\" data-id=\"date\" href=\"https://www.easeweather.com/north-america/united-states/california/san-francisco/day#date=2025-07-07\">Monday, Jul. 7</a><a class=\"custom-select-option\" data-id=\"date\" href=\"https://www.easeweather.com/north-america/united-states/california/san-francisco/day#date=2025-07-08\">Tuesday, Jul. 8</a><a class=\"custom-select-option\" data-id=\"date\" href=\"https://www.easeweather.com/north-america/united-states/california/san-francisco/day#date=2025-07-09\">Wednesday, Jul. 9</a><a class=\"custom-select-option\" data-id=\"date\" href=\"https://www.easeweather.com/north-america/united-states/california/san-francisco/day#date=2025-07-10\">Thursday, Jul. 10</a> </div> </div> </div> <section class=\"section-wrap box second-section\"> <div class=\"flex-top top-and-subscribe\"> <div> <h1 class=\"section-header\">Today weather in San Francisco</h1> <div class=\"section-sub-header\">Friday, June 27th, 2025</div> <div class=\"big-current\"> <div class=\"flex-left\"> <img alt=\"today weather\" class=\"header-icon\" height=\"64\" loading=\"lazy\" src=\"https://res.easeweather.com/images/weather-icons/day/sun-interval.svg\" title=\"today weather\" width=\"64\"/> <div class=\"big-current-data\"> <div class=\"big-current-temp\"><span data-temp=\"15\">15</span><span class=\"degree-sign\">°</span></div> <div class=\"big-current-des\">Partly cloudy</div> </div> </div> </div> <div class=\"alert-line\"><b><img alt=\"Weather Alert\" class=\"alert-icon\" height=\"20\" loading=\"lazy\" src=\"https://res.easeweather.com/images/icons/warning-fill.svg\" title=\"Weather Alert\" width=\"20\"/> Official weather alert</b>: <a class=\"link-button\" href=\"https://www.easeweather.com/alerts/coastal-flood-advisory#map\">Coastal Flood Advisory</a>.</div> </div> <button class=\"subscribe-button button2\" id=\"notification-subscribe-button\">Subscribe for notifications</button> </div> <div class=\"month-menu-container days-menu section-wide-wrap\" id=\"month-container\"> <a class=\"month-menu-item active-month-item\" href=\"https://www.easeweather.com/north-america/united-states/california/san-francisco/today\"> <div class=\"month-menu-number\">27</div> <div class=\"month-menu-name\">Jun.</div> <span class=\"month-menu-underline\"></span> </a> <a class=\"month-menu-item\" href=\"https://www.easeweather.com/north-america/united-states/california/san-francisco/tomorrow\"> <div class=\"month-menu-number\">28</div> <div class=\"month-menu-name\">Jun.</div> <span class=\"month-menu-underline\"></span> </a> <a class=\"month-menu-item\" href=\"https://www.easeweather.com/north-america/united-states/california/san-francisco/day#date=2025-06-29\"> <div class=\"month-menu-number\">29</div> <div class=\"month-menu-name\">Jun.</div> <span class=\"month-menu-underline\"></span> </a> <a class=\"month-menu-item\" href=\"https://www.easeweather.com/north-america/united-states/california/san-francisco/day#date=2025-06-30\"> <div class=\"month-menu-number\">30</div> <div class=\"month-menu-name\">Jun.</div> <span class=\"month-menu-underline\"></span> </a> <a class=\"month-menu-item\" href=\"https://www.easeweather.com/north-america/united-states/california/san-francisco/day#date=2025-07-01\"> <div class=\"month-menu-number\">01</div> <div class=\"month-menu-name\">Jul.</div> <span class=\"month-menu-underline\"></span> </a> <a class=\"month-menu-item\" href=\"https://www.easeweather.com/north-america/united-states/california/san-francisco/day#date=2025-07-02\"> <div class=\"month-menu-number\">02</div> <div class=\"month-menu-name\">Jul.</div> <span class=\"month-menu-underline\"></span> </a> <a class=\"month-menu-item\" href=\"https://www.easeweather.com/north-america/united-states/california/san-francisco/day#date=2025-07-03\"> <div class=\"month-menu-number\">03</div> <div class=\"month-menu-name\">Jul.</div> <span class=\"month-menu-underline\"></span> </a> <a class=\"month-menu-item\" href=\"https://www.easeweather.com/north-america/united-states/california/san-francisco/day#date=2025-07-04\"> <div class=\"month-menu-number\">04</div> <div class=\"month-menu-name\">Jul.</div> <span class=\"month-menu-underline\"></span> </a> <a class=\"month-menu-item\" href=\"https://www.easeweather.com/north-america/united-states/california/san-francisco/day#date=2025-07-05\"> <div class=\"month-menu-number\">05</div> <div class=\"month-menu-name\">Jul.</div> <span class=\"month-menu-underline\"></span> </a> <a class=\"month-menu-item\" href=\"https://www.easeweather.com/north-america/united-states/california/san-francisco/day#date=2025-07-06\"> <div class=\"month-menu-number\">06</div> <div class=\"month-menu-name\">Jul.</div> <span class=\"month-menu-underline\"></span> </a> <a class=\"month-menu-item\" href=\"https://www.easeweather.com/north-america/united-states/california/san-francisco/day#date=2025-07-07\"> <div class=\"month-menu-number\">07</div> <div class=\"month-menu-name\">Jul.</div> <span class=\"month-menu-underline\"></span> </a> <a class=\"month-menu-item\" href=\"https://www.easeweather.com/north-america/united-states/california/san-francisco/day#date=2025-07-08\"> <div class=\"month-menu-number\">08</div> <div class=\"month-menu-name\">Jul.</div> <span class=\"month-menu-underline\"></span> </a> <a class=\"month-menu-item\" href=\"https://www.easeweather.com/north-america/united-states/california/san-francisco/day#date=2025-07-09\"> <div class=\"month-menu-number\">09</div> <div class=\"month-menu-name\">Jul.</div> <span class=\"month-menu-underline\"></span> </a> <a class=\"month-menu-item\" href=\"https://www.easeweather.com/north-america/united-states/california/san-francisco/day#date=2025-07-10\"> <div class=\"month-menu-number\">10</div> <div class=\"month-menu-name\">Jul.</div> <span class=\"month-menu-underline\"></span> </a> </div> <div class=\"section-content today-text-and-image flex-top\"> <div> A slightly cool ambiance awaits San Francisco on today, with temperatures hovering between <span data-temp=\"10\">10</span> <span class=\"degree-sign\">°</span><span class=\"temp-unit\">F</span> in the morning and <span data-temp=\"15\">15</span> <span class=\"degree-sign\">°</span><span class=\"temp-unit\">F</span> in the afternoon. It'll be quite breezy in San Francisco Today with average wind speeds of <span data-wind=\"16\">16</span> <span class=\"wind-unit\">km/h</span>. Expect a humid atmosphere, with levels hovering around 91%. </div> </div> <div class=\"flex next-prev-section\"> <a href=\"\"><button class=\"link-with-right-arrow left-arrow disabled\" disabled=\"\">Thursday, Jun. 26</button></a> <a class=\"link-with-right-arrow\" href=\"https://www.easeweather.com/north-america/united-states/california/san-francisco/tomorrow\">Saturday, Jun. 28</a> </div> <div class=\"day_data_points-wrap flex\"> <div class=\"data-point-wrap\"> <div class=\"data-point-label\"><span data-temp=\"15\">15</span><span class=\"degree-sign\">°</span> / <span data-temp=\"10\">10</span><span class=\"degree-sign\">°</span></div> <div class=\"data-point-sub-header\">Temp</div> </div> <div class=\"points-line\"></div> <div class=\"data-point-wrap\"> <div class=\"data-point-label\">0%</div> <div class=\"data-point-sub-header\">Rain</div> </div> <div class=\"points-line\"></div> <div class=\"data-point-wrap\"> <div class=\"data-point-label\"><span data-wind=\"16\">16</span> <span class=\"wind-unit\">km/h</span></div> <div class=\"data-point-sub-header\">Wind</div> </div> <div class=\"points-line\"></div> <div class=\"data-point-wrap\"> <div class=\"data-point-label\">91%</div> <div class=\"data-point-sub-header\">Humidity</div> </div> </div> </section> <div class=\"section-wrap ad-section\"><script async=\"\" crossorigin=\"anonymous\" src=\"https://pagead2.googlesyndication.com/pagead/js/adsbygoogle.js?client=ca-pub-0206751604021858\" type=\"5d0d44e0a02d7c525b31986e-text/javascript\"></script> <ins class=\"adsbygoogle\" data-ad-client=\"ca-pub-0206751604021858\" data-ad-format=\"auto\" data-ad-slot=\"2794074598\" data-full-width-responsive=\"true\" style=\"display:block\"></ins> <script type=\"5d0d44e0a02d7c525b31986e-text/javascript\"> (adsbygoogle = window.adsbygoogle || []).push({}); </script></div> <section class=\"section-wrap\" id=\"table-of-days\" itemscope=\"\" itemtype=\"https://schema.org/Table\"> <h2 class=\"section-header\" itemprop=\"about\">San Francisco hourly forecast for today</h2> <div class=\"section-sub-header\">Scroll right to see more weather forecasts for San Francisco today</div> <div class=\"hourly-table-wrap section-content right-fade show-right-fade\" id=\"hourly-table\"> <table> <thead> <tr> <th></th> <th>12:00 AM</th><th>01:00 AM</th><th>02:00 AM</th><th>03:00 AM</th><th>04:00 AM</th><th>05:00 AM</th><th>05:50 AM</th><th>06:00 AM</th><th>07:00 AM</th><th>08:00 AM</th><th>09:00 AM</th><th>10:00 AM</th><th>11:00 AM</th><th>12:00 PM</th><th>01:00 PM</th><th>02:00 PM</th><th>03:00 PM</th><th>04:00 PM</th><th>05:00 PM</th><th>06:00 PM</th><th>07:00 PM</th><th>08:00 PM</th><th>08:36 PM</th><th>09:00 PM</th><th>10:00 PM</th><th>11:00 PM</th><th></th> </tr> </thead> <tbody> <tr><th>weather</th><td><img alt=\"Mist\" height=\"30\" loading=\"lazy\" src=\"https://res.easeweather.com/images/weather-icons/night/mist.svg\" title=\"Mist\" width=\"30\"/></td><td><img alt=\"Fog\" height=\"30\" loading=\"lazy\" src=\"https://res.easeweather.com/images/weather-icons/night/mist.svg\" title=\"Fog\" width=\"30\"/></td><td><img alt=\"Mist\" height=\"30\" loading=\"lazy\" src=\"https://res.easeweather.com/images/weather-icons/night/mist.svg\" title=\"Mist\" width=\"30\"/></td><td><img alt=\"Fog\" height=\"30\" loading=\"lazy\" src=\"https://res.easeweather.com/images/weather-icons/night/mist.svg\" title=\"Fog\" width=\"30\"/></td><td><img alt=\"Fog\" height=\"30\" loading=\"lazy\" src=\"https://res.easeweather.com/images/weather-icons/night/mist.svg\" title=\"Fog\" width=\"30\"/></td><td><img alt=\"Fog\" height=\"30\" loading=\"lazy\" src=\"https://res.easeweather.com/images/weather-icons/night/mist.svg\" title=\"Fog\" width=\"30\"/></td><td><img alt=\"sunrise\" height=\"30\" loading=\"lazy\" src=\"https://res.easeweather.com/images/icons/sunrise.svg\" title=\"sunrise\" width=\"30\"/></td><td><img alt=\"Mist\" height=\"30\" loading=\"lazy\" src=\"https://res.easeweather.com/images/weather-icons/day/mist.svg\" title=\"Mist\" width=\"30\"/></td><td><img alt=\"Mist\" height=\"30\" loading=\"lazy\" src=\"https://res.easeweather.com/images/weather-icons/day/mist.svg\" title=\"Mist\" width=\"30\"/></td><td><img alt=\"Mist\" height=\"30\" loading=\"lazy\" src=\"https://res.easeweather.com/images/weather-icons/day/mist.svg\" title=\"Mist\" width=\"30\"/></td><td><img alt=\"Mist\" height=\"30\" loading=\"lazy\" src=\"https://res.easeweather.com/images/weather-icons/day/mist.svg\" title=\"Mist\" width=\"30\"/></td><td><img alt=\"Cloudy\" height=\"30\" loading=\"lazy\" src=\"https://res.easeweather.com/images/weather-icons/day/cloudy.svg\" title=\"Cloudy\" width=\"30\"/></td><td><img alt=\"Partly cloudy\" height=\"30\" loading=\"lazy\" src=\"https://res.easeweather.com/images/weather-icons/day/sun-interval.svg\" title=\"Partly cloudy\" width=\"30\"/></td><td><img alt=\"Partly cloudy\" height=\"30\" loading=\"lazy\" src=\"https://res.easeweather.com/images/weather-icons/day/sun-interval.svg\" title=\"Partly cloudy\" width=\"30\"/></td><td><img alt=\"Partly cloudy\" height=\"30\" loading=\"lazy\" src=\"https://res.easeweather.com/images/weather-icons/day/sun-interval.svg\" title=\"Partly cloudy\" width=\"30\"/></td><td><img alt=\"Partly cloudy\" height=\"30\" loading=\"lazy\" src=\"https://res.easeweather.com/images/weather-icons/day/sun-interval.svg\" title=\"Partly cloudy\" width=\"30\"/></td><td><img alt=\"Partly cloudy\" height=\"30\" loading=\"lazy\" src=\"https://res.easeweather.com/images/weather-icons/day/sun-interval.svg\" title=\"Partly cloudy\" width=\"30\"/></td><td><img alt=\"Partly cloudy\" height=\"30\" loading=\"lazy\" src=\"https://res.easeweather.com/images/weather-icons/day/sun-interval.svg\" title=\"Partly cloudy\" width=\"30\"/></td><td><img alt=\"Partly cloudy\" height=\"30\" loading=\"lazy\" src=\"https://res.easeweather.com/images/weather-icons/day/sun-interval.svg\" title=\"Partly cloudy\" width=\"30\"/></td><td><img alt=\"Partly cloudy\" height=\"30\" loading=\"lazy\" src=\"https://res.easeweather.com/images/weather-icons/day/sun-interval.svg\" title=\"Partly cloudy\" width=\"30\"/></td><td><img alt=\"Partly cloudy\" height=\"30\" loading=\"lazy\" src=\"https://res.easeweather.com/images/weather-icons/day/sun-interval.svg\" title=\"Partly cloudy\" width=\"30\"/></td><td><img alt=\"Sunny\" height=\"30\" loading=\"lazy\" src=\"https://res.easeweather.com/images/weather-icons/day/sunny.svg\" title=\"Sunny\" width=\"30\"/></td><td><img alt=\"sunset\" height=\"30\" loading=\"lazy\" src=\"https://res.easeweather.com/images/icons/sunset.svg\" title=\"sunset\" width=\"30\"/></td><td><img alt=\"Partly cloudy\" height=\"30\" loading=\"lazy\" src=\"https://res.easeweather.com/images/weather-icons/night/sun-interval.svg\" title=\"Partly cloudy\" width=\"30\"/></td><td><img alt=\"Sunny\" height=\"30\" loading=\"lazy\" src=\"https://res.easeweather.com/images/weather-icons/night/sunny.svg\" title=\"Sunny\" width=\"30\"/></td><td><img alt=\"Sunny\" height=\"30\" loading=\"lazy\" src=\"https://res.easeweather.com/images/weather-icons/night/sunny.svg\" title=\"Sunny\" width=\"30\"/></td><td><a class=\"link-with-right-arrow\" href=\"https://www.easeweather.com/north-america/united-states/california/san-francisco/tomorrow\">Next</a></td></tr> <tr><th>temperatures</th><td><span data-temp=\"10.7\">10.7</span><span class=\"degree-sign\">°</span></td><td><span data-temp=\"10.6\">10.6</span><span class=\"degree-sign\">°</span></td><td><span data-temp=\"10.4\">10.4</span><span class=\"degree-sign\">°</span></td><td><span data-temp=\"10.4\">10.4</span><span class=\"degree-sign\">°</span></td><td><span data-temp=\"11.7\">11.7</span><span class=\"degree-sign\">°</span></td><td><span data-temp=\"10.7\">10.7</span><span class=\"degree-sign\">°</span></td><td class=\"sunrise-text\">Sunrise</td><td><span data-temp=\"11\">11</span><span class=\"degree-sign\">°</span></td><td><span data-temp=\"10.8\">10.8</span><span class=\"degree-sign\">°</span></td><td><span data-temp=\"11.2\">11.2</span><span class=\"degree-sign\">°</span></td><td><span data-temp=\"11.6\">11.6</span><span class=\"degree-sign\">°</span></td><td><span data-temp=\"12.1\">12.1</span><span class=\"degree-sign\">°</span></td><td><span data-temp=\"12.9\">12.9</span><span class=\"degree-sign\">°</span></td><td><span data-temp=\"13.6\">13.6</span><span class=\"degree-sign\">°</span></td><td><span data-temp=\"14.1\">14.1</span><span class=\"degree-sign\">°</span></td><td><span data-temp=\"14.6\">14.6</span><span class=\"degree-sign\">°</span></td><td><span data-temp=\"14.8\">14.8</span><span class=\"degree-sign\">°</span></td><td><span data-temp=\"14.7\">14.7</span><span class=\"degree-sign\">°</span></td><td><span data-temp=\"14.6\">14.6</span><span class=\"degree-sign\">°</span></td><td><span data-temp=\"14.4\">14.4</span><span class=\"degree-sign\">°</span></td><td><span data-temp=\"13.7\">13.7</span><span class=\"degree-sign\">°</span></td><td><span data-temp=\"13\">13</span><span class=\"degree-sign\">°</span></td><td class=\"sunrise-text\">Sunset</td><td><span data-temp=\"12.4\">12.4</span><span class=\"degree-sign\">°</span></td><td><span data-temp=\"12.8\">12.8</span><span class=\"degree-sign\">°</span></td><td><span data-temp=\"12.4\">12.4</span><span class=\"degree-sign\">°</span></td><td></td></tr> <tr><th>feels like</th><td><span data-temp=\"9.4\">9.4</span><span class=\"degree-sign\">°</span></td><td><span data-temp=\"9.3\">9.3</span><span class=\"degree-sign\">°</span></td><td><span data-temp=\"9.2\">9.2</span><span class=\"degree-sign\">°</span></td><td><span data-temp=\"9.2\">9.2</span><span class=\"degree-sign\">°</span></td><td><span data-temp=\"9.3\">9.3</span><span class=\"degree-sign\">°</span></td><td><span data-temp=\"9.9\">9.9</span><span class=\"degree-sign\">°</span></td><td></td><td><span data-temp=\"10.4\">10.4</span><span class=\"degree-sign\">°</span></td><td><span data-temp=\"10.3\">10.3</span><span class=\"degree-sign\">°</span></td><td><span data-temp=\"10.8\">10.8</span><span class=\"degree-sign\">°</span></td><td><span data-temp=\"11.2\">11.2</span><span class=\"degree-sign\">°</span></td><td><span data-temp=\"11.6\">11.6</span><span class=\"degree-sign\">°</span></td><td><span data-temp=\"12.4\">12.4</span><span class=\"degree-sign\">°</span></td><td><span data-temp=\"13.2\">13.2</span><span class=\"degree-sign\">°</span></td><td><span data-temp=\"13.5\">13.5</span><span class=\"degree-sign\">°</span></td><td><span data-temp=\"14.3\">14.3</span><span class=\"degree-sign\">°</span></td><td><span data-temp=\"14.3\">14.3</span><span class=\"degree-sign\">°</span></td><td><span data-temp=\"14\">14</span><span class=\"degree-sign\">°</span></td><td><span data-temp=\"13.9\">13.9</span><span class=\"degree-sign\">°</span></td><td><span data-temp=\"13.6\">13.6</span><span class=\"degree-sign\">°</span></td><td><span data-temp=\"12.9\">12.9</span><span class=\"degree-sign\">°</span></td><td><span data-temp=\"12\">12</span><span class=\"degree-sign\">°</span></td><td></td><td><span data-temp=\"11.5\">11.5</span><span class=\"degree-sign\">°</span></td><td><span data-temp=\"11.9\">11.9</span><span class=\"degree-sign\">°</span></td><td><span data-temp=\"11.6\">11.6</span><span class=\"degree-sign\">°</span></td><td></td></tr> <tr><th>wind speed</th><td><span data-wind=\"12\">12</span> <span class=\"wind-unit\">km/h</span></td><td><span data-wind=\"11\">11</span> <span class=\"wind-unit\">km/h</span></td><td><span data-wind=\"10\">10</span> <span class=\"wind-unit\">km/h</span></td><td><span data-wind=\"10\">10</span> <span class=\"wind-unit\">km/h</span></td><td><span data-wind=\"9\">9</span> <span class=\"wind-unit\">km/h</span></td><td><span data-wind=\"8\">8</span> <span class=\"wind-unit\">km/h</span></td><td></td><td><span data-wind=\"7\">7</span> <span class=\"wind-unit\">km/h</span></td><td><span data-wind=\"4\">4</span> <span class=\"wind-unit\">km/h</span></td><td><span data-wind=\"4\">4</span> <span class=\"wind-unit\">km/h</span></td><td><span data-wind=\"5\">5</span> <span class=\"wind-unit\">km/h</span></td><td><span data-wind=\"6\">6</span> <span class=\"wind-unit\">km/h</span></td><td><span data-wind=\"8\">8</span> <span class=\"wind-unit\">km/h</span></td><td><span data-wind=\"11\">11</span> <span class=\"wind-unit\">km/h</span></td><td><span data-wind=\"14\">14</span> <span class=\"wind-unit\">km/h</span></td><td><span data-wind=\"17\">17</span> <span class=\"wind-unit\">km/h</span></td><td><span data-wind=\"17\">17</span> <span class=\"wind-unit\">km/h</span></td><td><span data-wind=\"17\">17</span> <span class=\"wind-unit\">km/h</span></td><td><span data-wind=\"17\">17</span> <span class=\"wind-unit\">km/h</span></td><td><span data-wind=\"16\">16</span> <span class=\"wind-unit\">km/h</span></td><td><span data-wind=\"14\">14</span> <span class=\"wind-unit\">km/h</span></td><td><span data-wind=\"13\">13</span> <span class=\"wind-unit\">km/h</span></td><td></td><td><span data-wind=\"12\">12</span> <span class=\"wind-unit\">km/h</span></td><td><span data-wind=\"12\">12</span> <span class=\"wind-unit\">km/h</span></td><td><span data-wind=\"12\">12</span> <span class=\"wind-unit\">km/h</span></td><td></td></tr> <tr><th>wind degree</th><td>230°</td><td>221°</td><td>208°</td><td>201°</td><td>192°</td><td>178°</td><td></td><td>167°</td><td>160°</td><td>182°</td><td>241°</td><td>245°</td><td>249°</td><td>257°</td><td>257°</td><td>259°</td><td>257°</td><td>257°</td><td>252°</td><td>246°</td><td>242°</td><td>234°</td><td></td><td>231°</td><td>224°</td><td>217°</td><td></td></tr> <tr><th>wind direction</th><td>SW</td><td>SW</td><td>SSW</td><td>SSW</td><td>SSW</td><td>S</td><td></td><td>SSE</td><td>SSE</td><td>S</td><td>WSW</td><td>WSW</td><td>WSW</td><td>WSW</td><td>WSW</td><td>W</td><td>WSW</td><td>WSW</td><td>WSW</td><td>WSW</td><td>WSW</td><td>SW</td><td></td><td>SW</td><td>SW</td><td>SW</td><td></td></tr> <tr><th>humidity</th><td>97%</td><td>97%</td><td>97%</td><td>97%</td><td>89%</td><td>97%</td><td></td><td>97%</td><td>97%</td><td>97%</td><td>96%</td><td>94%</td><td>91%</td><td>89%</td><td>87%</td><td>85%</td><td>84%</td><td>84%</td><td>83%</td><td>85%</td><td>87%</td><td>86%</td><td></td><td>91%</td><td>93%</td><td>86%</td><td></td></tr> <tr><th>Precipitation</th><td><span data-length=\"0\">0</span> <span class=\"length-unit\">mm</span></td><td><span data-length=\"0\">0</span> <span class=\"length-unit\">mm</span></td><td><span data-length=\"0\">0</span> <span class=\"length-unit\">mm</span></td><td><span data-length=\"0\">0</span> <span class=\"length-unit\">mm</span></td><td><span data-length=\"0\">0</span> <span class=\"length-unit\">mm</span></td><td><span data-length=\"0\">0</span> <span class=\"length-unit\">mm</span></td><td></td><td><span data-length=\"0\">0</span> <span class=\"length-unit\">mm</span></td><td><span data-length=\"0\">0</span> <span class=\"length-unit\">mm</span></td><td><span data-length=\"0\">0</span> <span class=\"length-unit\">mm</span></td><td><span data-length=\"0\">0</span> <span class=\"length-unit\">mm</span></td><td><span data-length=\"0\">0</span> <span class=\"length-unit\">mm</span></td><td><span data-length=\"0\">0</span> <span class=\"length-unit\">mm</span></td><td><span data-length=\"0\">0</span> <span class=\"length-unit\">mm</span></td><td><span data-length=\"0\">0</span> <span class=\"length-unit\">mm</span></td><td><span data-length=\"0\">0</span> <span class=\"length-unit\">mm</span></td><td><span data-length=\"0\">0</span> <span class=\"length-unit\">mm</span></td><td><span data-length=\"0\">0</span> <span class=\"length-unit\">mm</span></td><td><span data-length=\"0\">0</span> <span class=\"length-unit\">mm</span></td><td><span data-length=\"0\">0</span> <span class=\"length-unit\">mm</span></td><td><span data-length=\"0\">0</span> <span class=\"length-unit\">mm</span></td><td><span data-length=\"0\">0</span> <span class=\"length-unit\">mm</span></td><td></td><td><span data-length=\"0\">0</span> <span class=\"length-unit\">mm</span></td><td><span data-length=\"0\">0</span> <span class=\"length-unit\">mm</span></td><td><span data-length=\"0\">0</span> <span class=\"length-unit\">mm</span></td><td></td></tr> <tr><th>chance for rain</th><td>0%</td><td>0%</td><td>0%</td><td>0%</td><td>0%</td><td>0%</td><td></td><td>0%</td><td>0%</td><td>0%</td><td>0%</td><td>0%</td><td>0%</td><td>0%</td><td>0%</td><td>0%</td><td>0%</td><td>0%</td><td>0%</td><td>0%</td><td>0%</td><td>0%</td><td></td><td>0%</td><td>0%</td><td>0%</td><td></td></tr> <tr><th>chance for snow</th><td>0%</td><td>0%</td><td>0%</td><td>0%</td><td>0%</td><td>0%</td><td></td><td>0%</td><td>0%</td><td>0%</td><td>0%</td><td>0%</td><td>0%</td><td>0%</td><td>0%</td><td>0%</td><td>0%</td><td>0%</td><td>0%</td><td>0%</td><td>0%</td><td>0%</td><td></td><td>0%</td><td>0%</td><td>0%</td><td></td></tr> <tr><th>visibility</th><td><span data-visibility=\"10\">10</span> <span class=\"visibility-unit\">km</span></td><td><span data-visibility=\"10\">10</span> <span class=\"visibility-unit\">km</span></td><td><span data-visibility=\"10\">10</span> <span class=\"visibility-unit\">km</span></td><td><span data-visibility=\"10\">10</span> <span class=\"visibility-unit\">km</span></td><td><span data-visibility=\"16\">16</span> <span class=\"visibility-unit\">km</span></td><td><span data-visibility=\"10\">10</span> <span class=\"visibility-unit\">km</span></td><td></td><td><span data-visibility=\"10\">10</span> <span class=\"visibility-unit\">km</span></td><td><span data-visibility=\"10\">10</span> <span class=\"visibility-unit\">km</span></td><td><span data-visibility=\"10\">10</span> <span class=\"visibility-unit\">km</span></td><td><span data-visibility=\"10\">10</span> <span class=\"visibility-unit\">km</span></td><td><span data-visibility=\"10\">10</span> <span class=\"visibility-unit\">km</span></td><td><span data-visibility=\"10\">10</span> <span class=\"visibility-unit\">km</span></td><td><span data-visibility=\"10\">10</span> <span class=\"visibility-unit\">km</span></td><td><span data-visibility=\"10\">10</span> <span class=\"visibility-unit\">km</span></td><td><span data-visibility=\"10\">10</span> <span class=\"visibility-unit\">km</span></td><td><span data-visibility=\"10\">10</span> <span class=\"visibility-unit\">km</span></td><td><span data-visibility=\"10\">10</span> <span class=\"visibility-unit\">km</span></td><td><span data-visibility=\"10\">10</span> <span class=\"visibility-unit\">km</span></td><td><span data-visibility=\"10\">10</span> <span class=\"visibility-unit\">km</span></td><td><span data-visibility=\"10\">10</span> <span class=\"visibility-unit\">km</span></td><td><span data-visibility=\"10\">10</span> <span class=\"visibility-unit\">km</span></td><td></td><td><span data-visibility=\"10\">10</span> <span class=\"visibility-unit\">km</span></td><td><span data-visibility=\"10\">10</span> <span class=\"visibility-unit\">km</span></td><td><span data-visibility=\"10\">10</span> <span class=\"visibility-unit\">km</span></td><td></td></tr> <tr><th>cloud cover</th><td>100%</td><td>100%</td><td>100%</td><td>100%</td><td>0%</td><td>100%</td><td></td><td>100%</td><td>100%</td><td>100%</td><td>96%</td><td>71%</td><td>62%</td><td>48%</td><td>35%</td><td>27%</td><td>25%</td><td>27%</td><td>26%</td><td>26%</td><td>26%</td><td>12%</td><td></td><td>27%</td><td>22%</td><td>3%</td><td></td></tr> <tr><th>UV</th><td class=\"uv-low\">0</td><td class=\"uv-low\">0</td><td class=\"uv-low\">0</td><td class=\"uv-low\">0</td><td class=\"uv-low\">0</td><td class=\"uv-low\">0</td><td></td><td class=\"uv-low\">0</td><td class=\"uv-low\">0.3</td><td class=\"uv-low\">1.2</td><td class=\"uv-low\">2.8</td><td class=\"uv-moderate\">5</td><td class=\"uv-high\">7.3</td><td class=\"uv-very_high\">9.2</td><td class=\"uv-very_high\">10</td><td class=\"uv-very_high\">9.5</td><td class=\"uv-high\">7.9</td><td class=\"uv-high\">5.6</td><td class=\"uv-moderate\">3.2</td><td class=\"uv-low\">1.5</td><td class=\"uv-low\">0.5</td><td class=\"uv-low\">0</td><td></td><td class=\"uv-low\">0</td><td class=\"uv-low\">0</td><td class=\"uv-low\">0</td><td></td></tr> </tbody> </table> </div> </section> <section class=\"section-wrap weather-feedback box\"> <h2 class=\"section-header\">How accurate is our weather forecast for San Francisco?</h2> <p class=\"section-sub-header\">See how others rate our San Francisco forecast accuracy and help others by voting.</p> <div class=\"feedback-buttons\"> <button class=\"upvote button2\" data-cf-modified-5d0d44e0a02d7c525b31986e-=\"\" onclick=\"if (!window.__cfRLUnblockHandlers) return false; vote('up')\">👍 Yes <span class=\"vote-count\" id=\"upvote-count\">0</span></button> <button class=\"downvote button2\" data-cf-modified-5d0d44e0a02d7c525b31986e-=\"\" onclick=\"if (!window.__cfRLUnblockHandlers) return false; vote('down')\">👎 No <span class=\"vote-count\" id=\"downvote-count\">0</span></button> </div></section><div class=\"section-wrap today-webcam\"> <h2 class=\"section-header\">View of San Francisco today</h2> <div class=\"section-sub-header\"><p>Explore <a class=\"link-button\" href=\"https://www.easeweather.com/north-america/united-states/california/san-francisco/webcam\">San Francisco live webcam</a> feed to see how the weather is shaping up today in San Francisco. See what people are wearing, check out the sky, and get a sense of the atmosphere before you step outside.</p><p>Stay informed and make the most of your day with our live weather updates from San Francisco today.</p></div> <div class=\"section-content\"> <a href=\"https://www.easeweather.com/north-america/united-states/california/san-francisco/webcam#webcam-player\" id=\"webcam-image\"> <div class=\"play-image\"></div> <img alt=\"San Francisco today\" class=\"daytime-webcam\" height=\"360\" loading=\"lazy\" src=\"https://images-webcams.windy.com/17/1596825917/daylight/preview/1596825917.jpg\" title=\"San Francisco today\" width=\"640\"/> </a> </div> </div><section class=\"section-wrap box\"> <h2 class=\"section-header\">Weather in San Francisco today</h2> <div class=\"section-content-small\"><p>The weather in San Francisco today is expected to be noticeably cooler than usual, with a forecast temperature of <span data-temp=\"15\">15</span> <span class=\"degree-sign\">°</span><span class=\"temp-unit\">F</span>, compared to an average of <span data-temp=\"19\">19</span> <span class=\"\n"
          ]
        }
      ]
    },
    {
      "cell_type": "code",
      "source": [
        "# extract text\n",
        "weather_data = []\n",
        "for tag in soup.find_all(['h1', 'h2', 'h3', 'p']):\n",
        "    text = tag.get_text(\" \", strip=True)\n",
        "    weather_data.append(text)\n",
        "\n",
        "# combine all elements into a single string\n",
        "weather_data = \"\\n\".join(weather_data)\n",
        "\n",
        "# remove all spaces from the combined text\n",
        "weather_data = re.sub(r'\\s+', ' ', weather_data)\n",
        "\n",
        "print(f\"Website: {url}\\n\\n\")\n",
        "print(weather_data)"
      ],
      "metadata": {
        "colab": {
          "base_uri": "https://localhost:8080/"
        },
        "id": "6SklQfnGppxX",
        "outputId": "7aea52a6-f2d8-439f-a044-9d523f927ce6"
      },
      "execution_count": 20,
      "outputs": [
        {
          "output_type": "stream",
          "name": "stdout",
          "text": [
            "Website: https://www.easeweather.com/north-america/united-states/california/san-francisco/today\n",
            "\n",
            "\n",
            "Today weather in San Francisco San Francisco hourly forecast for today How accurate is our weather forecast for San Francisco? See how others rate our San Francisco forecast accuracy and help others by voting. View of San Francisco today Explore San Francisco live webcam feed to see how the weather is shaping up today in San Francisco. See what people are wearing, check out the sky, and get a sense of the atmosphere before you step outside. Stay informed and make the most of your day with our live weather updates from San Francisco today. Weather in San Francisco today The weather in San Francisco today is expected to be noticeably cooler than usual, with a forecast temperature of 15 ° F , compared to an average of 19 ° F for June 27th in recent years. Quick links What to wear today in San Francisco? clothing recommendations The weather today in San Francisco - FAQ Get accurate weather forecasts for San Francisco, located at latitude 37.775 and longitude -122.419. Stay updated with localized weather information tailored for San Francisco. Stay Updated with the Weather Subscribe to receive real-time weather notifications for San Francisco Remember to enable notifications in your browser settings to stay informed (usually at the top left corner).\n"
          ]
        }
      ]
    },
    {
      "cell_type": "code",
      "source": [
        "#Agentic Search\n",
        "\n",
        "# run search\n",
        "result = client.search(query, max_results=1)\n",
        "\n",
        "# print first result\n",
        "data = result[\"results\"][0][\"content\"]\n",
        "\n",
        "print(data)"
      ],
      "metadata": {
        "colab": {
          "base_uri": "https://localhost:8080/"
        },
        "id": "eWNsAMZDpsTo",
        "outputId": "0db89110-fa11-4b1b-c662-3498c48d1bbb"
      },
      "execution_count": 21,
      "outputs": [
        {
          "output_type": "stream",
          "name": "stdout",
          "text": [
            "{'location': {'name': 'San Francisco', 'region': 'California', 'country': 'United States of America', 'lat': 37.775, 'lon': -122.4183, 'tz_id': 'America/Los_Angeles', 'localtime_epoch': 1751049600, 'localtime': '2025-06-27 11:40'}, 'current': {'last_updated_epoch': 1751049000, 'last_updated': '2025-06-27 11:30', 'temp_c': 14.1, 'temp_f': 57.4, 'is_day': 1, 'condition': {'text': 'Mist', 'icon': '//cdn.weatherapi.com/weather/64x64/day/143.png', 'code': 1030}, 'wind_mph': 4.7, 'wind_kph': 7.6, 'wind_degree': 246, 'wind_dir': 'WSW', 'pressure_mb': 1015.0, 'pressure_in': 29.96, 'precip_mm': 0.0, 'precip_in': 0.0, 'humidity': 94, 'cloud': 0, 'feelslike_c': 13.9, 'feelslike_f': 57.0, 'windchill_c': 12.3, 'windchill_f': 54.1, 'heatindex_c': 12.8, 'heatindex_f': 55.0, 'dewpoint_c': 11.3, 'dewpoint_f': 52.3, 'vis_km': 6.4, 'vis_miles': 3.0, 'uv': 7.3, 'gust_mph': 6.6, 'gust_kph': 10.5}}\n"
          ]
        }
      ]
    },
    {
      "cell_type": "code",
      "source": [
        "import json\n",
        "from pygments import highlight, lexers, formatters\n",
        "\n",
        "# parse JSON\n",
        "parsed_json = json.loads(data.replace(\"'\", '\"'))\n",
        "\n",
        "# pretty print JSON with syntax highlighting\n",
        "formatted_json = json.dumps(parsed_json, indent=4)\n",
        "colorful_json = highlight(formatted_json,\n",
        "                          lexers.JsonLexer(),\n",
        "                          formatters.TerminalFormatter())\n",
        "\n",
        "print(colorful_json)\n"
      ],
      "metadata": {
        "colab": {
          "base_uri": "https://localhost:8080/"
        },
        "id": "LrRvWq2rpyls",
        "outputId": "80f1efbd-1e42-474b-c228-3c120f19a699"
      },
      "execution_count": 22,
      "outputs": [
        {
          "output_type": "stream",
          "name": "stdout",
          "text": [
            "{\u001b[37m\u001b[39;49;00m\n",
            "\u001b[37m    \u001b[39;49;00m\u001b[94m\"location\"\u001b[39;49;00m:\u001b[37m \u001b[39;49;00m{\u001b[37m\u001b[39;49;00m\n",
            "\u001b[37m        \u001b[39;49;00m\u001b[94m\"name\"\u001b[39;49;00m:\u001b[37m \u001b[39;49;00m\u001b[33m\"San Francisco\"\u001b[39;49;00m,\u001b[37m\u001b[39;49;00m\n",
            "\u001b[37m        \u001b[39;49;00m\u001b[94m\"region\"\u001b[39;49;00m:\u001b[37m \u001b[39;49;00m\u001b[33m\"California\"\u001b[39;49;00m,\u001b[37m\u001b[39;49;00m\n",
            "\u001b[37m        \u001b[39;49;00m\u001b[94m\"country\"\u001b[39;49;00m:\u001b[37m \u001b[39;49;00m\u001b[33m\"United States of America\"\u001b[39;49;00m,\u001b[37m\u001b[39;49;00m\n",
            "\u001b[37m        \u001b[39;49;00m\u001b[94m\"lat\"\u001b[39;49;00m:\u001b[37m \u001b[39;49;00m\u001b[34m37.775\u001b[39;49;00m,\u001b[37m\u001b[39;49;00m\n",
            "\u001b[37m        \u001b[39;49;00m\u001b[94m\"lon\"\u001b[39;49;00m:\u001b[37m \u001b[39;49;00m\u001b[34m-122.4183\u001b[39;49;00m,\u001b[37m\u001b[39;49;00m\n",
            "\u001b[37m        \u001b[39;49;00m\u001b[94m\"tz_id\"\u001b[39;49;00m:\u001b[37m \u001b[39;49;00m\u001b[33m\"America/Los_Angeles\"\u001b[39;49;00m,\u001b[37m\u001b[39;49;00m\n",
            "\u001b[37m        \u001b[39;49;00m\u001b[94m\"localtime_epoch\"\u001b[39;49;00m:\u001b[37m \u001b[39;49;00m\u001b[34m1751049600\u001b[39;49;00m,\u001b[37m\u001b[39;49;00m\n",
            "\u001b[37m        \u001b[39;49;00m\u001b[94m\"localtime\"\u001b[39;49;00m:\u001b[37m \u001b[39;49;00m\u001b[33m\"2025-06-27 11:40\"\u001b[39;49;00m\u001b[37m\u001b[39;49;00m\n",
            "\u001b[37m    \u001b[39;49;00m},\u001b[37m\u001b[39;49;00m\n",
            "\u001b[37m    \u001b[39;49;00m\u001b[94m\"current\"\u001b[39;49;00m:\u001b[37m \u001b[39;49;00m{\u001b[37m\u001b[39;49;00m\n",
            "\u001b[37m        \u001b[39;49;00m\u001b[94m\"last_updated_epoch\"\u001b[39;49;00m:\u001b[37m \u001b[39;49;00m\u001b[34m1751049000\u001b[39;49;00m,\u001b[37m\u001b[39;49;00m\n",
            "\u001b[37m        \u001b[39;49;00m\u001b[94m\"last_updated\"\u001b[39;49;00m:\u001b[37m \u001b[39;49;00m\u001b[33m\"2025-06-27 11:30\"\u001b[39;49;00m,\u001b[37m\u001b[39;49;00m\n",
            "\u001b[37m        \u001b[39;49;00m\u001b[94m\"temp_c\"\u001b[39;49;00m:\u001b[37m \u001b[39;49;00m\u001b[34m14.1\u001b[39;49;00m,\u001b[37m\u001b[39;49;00m\n",
            "\u001b[37m        \u001b[39;49;00m\u001b[94m\"temp_f\"\u001b[39;49;00m:\u001b[37m \u001b[39;49;00m\u001b[34m57.4\u001b[39;49;00m,\u001b[37m\u001b[39;49;00m\n",
            "\u001b[37m        \u001b[39;49;00m\u001b[94m\"is_day\"\u001b[39;49;00m:\u001b[37m \u001b[39;49;00m\u001b[34m1\u001b[39;49;00m,\u001b[37m\u001b[39;49;00m\n",
            "\u001b[37m        \u001b[39;49;00m\u001b[94m\"condition\"\u001b[39;49;00m:\u001b[37m \u001b[39;49;00m{\u001b[37m\u001b[39;49;00m\n",
            "\u001b[37m            \u001b[39;49;00m\u001b[94m\"text\"\u001b[39;49;00m:\u001b[37m \u001b[39;49;00m\u001b[33m\"Mist\"\u001b[39;49;00m,\u001b[37m\u001b[39;49;00m\n",
            "\u001b[37m            \u001b[39;49;00m\u001b[94m\"icon\"\u001b[39;49;00m:\u001b[37m \u001b[39;49;00m\u001b[33m\"//cdn.weatherapi.com/weather/64x64/day/143.png\"\u001b[39;49;00m,\u001b[37m\u001b[39;49;00m\n",
            "\u001b[37m            \u001b[39;49;00m\u001b[94m\"code\"\u001b[39;49;00m:\u001b[37m \u001b[39;49;00m\u001b[34m1030\u001b[39;49;00m\u001b[37m\u001b[39;49;00m\n",
            "\u001b[37m        \u001b[39;49;00m},\u001b[37m\u001b[39;49;00m\n",
            "\u001b[37m        \u001b[39;49;00m\u001b[94m\"wind_mph\"\u001b[39;49;00m:\u001b[37m \u001b[39;49;00m\u001b[34m4.7\u001b[39;49;00m,\u001b[37m\u001b[39;49;00m\n",
            "\u001b[37m        \u001b[39;49;00m\u001b[94m\"wind_kph\"\u001b[39;49;00m:\u001b[37m \u001b[39;49;00m\u001b[34m7.6\u001b[39;49;00m,\u001b[37m\u001b[39;49;00m\n",
            "\u001b[37m        \u001b[39;49;00m\u001b[94m\"wind_degree\"\u001b[39;49;00m:\u001b[37m \u001b[39;49;00m\u001b[34m246\u001b[39;49;00m,\u001b[37m\u001b[39;49;00m\n",
            "\u001b[37m        \u001b[39;49;00m\u001b[94m\"wind_dir\"\u001b[39;49;00m:\u001b[37m \u001b[39;49;00m\u001b[33m\"WSW\"\u001b[39;49;00m,\u001b[37m\u001b[39;49;00m\n",
            "\u001b[37m        \u001b[39;49;00m\u001b[94m\"pressure_mb\"\u001b[39;49;00m:\u001b[37m \u001b[39;49;00m\u001b[34m1015.0\u001b[39;49;00m,\u001b[37m\u001b[39;49;00m\n",
            "\u001b[37m        \u001b[39;49;00m\u001b[94m\"pressure_in\"\u001b[39;49;00m:\u001b[37m \u001b[39;49;00m\u001b[34m29.96\u001b[39;49;00m,\u001b[37m\u001b[39;49;00m\n",
            "\u001b[37m        \u001b[39;49;00m\u001b[94m\"precip_mm\"\u001b[39;49;00m:\u001b[37m \u001b[39;49;00m\u001b[34m0.0\u001b[39;49;00m,\u001b[37m\u001b[39;49;00m\n",
            "\u001b[37m        \u001b[39;49;00m\u001b[94m\"precip_in\"\u001b[39;49;00m:\u001b[37m \u001b[39;49;00m\u001b[34m0.0\u001b[39;49;00m,\u001b[37m\u001b[39;49;00m\n",
            "\u001b[37m        \u001b[39;49;00m\u001b[94m\"humidity\"\u001b[39;49;00m:\u001b[37m \u001b[39;49;00m\u001b[34m94\u001b[39;49;00m,\u001b[37m\u001b[39;49;00m\n",
            "\u001b[37m        \u001b[39;49;00m\u001b[94m\"cloud\"\u001b[39;49;00m:\u001b[37m \u001b[39;49;00m\u001b[34m0\u001b[39;49;00m,\u001b[37m\u001b[39;49;00m\n",
            "\u001b[37m        \u001b[39;49;00m\u001b[94m\"feelslike_c\"\u001b[39;49;00m:\u001b[37m \u001b[39;49;00m\u001b[34m13.9\u001b[39;49;00m,\u001b[37m\u001b[39;49;00m\n",
            "\u001b[37m        \u001b[39;49;00m\u001b[94m\"feelslike_f\"\u001b[39;49;00m:\u001b[37m \u001b[39;49;00m\u001b[34m57.0\u001b[39;49;00m,\u001b[37m\u001b[39;49;00m\n",
            "\u001b[37m        \u001b[39;49;00m\u001b[94m\"windchill_c\"\u001b[39;49;00m:\u001b[37m \u001b[39;49;00m\u001b[34m12.3\u001b[39;49;00m,\u001b[37m\u001b[39;49;00m\n",
            "\u001b[37m        \u001b[39;49;00m\u001b[94m\"windchill_f\"\u001b[39;49;00m:\u001b[37m \u001b[39;49;00m\u001b[34m54.1\u001b[39;49;00m,\u001b[37m\u001b[39;49;00m\n",
            "\u001b[37m        \u001b[39;49;00m\u001b[94m\"heatindex_c\"\u001b[39;49;00m:\u001b[37m \u001b[39;49;00m\u001b[34m12.8\u001b[39;49;00m,\u001b[37m\u001b[39;49;00m\n",
            "\u001b[37m        \u001b[39;49;00m\u001b[94m\"heatindex_f\"\u001b[39;49;00m:\u001b[37m \u001b[39;49;00m\u001b[34m55.0\u001b[39;49;00m,\u001b[37m\u001b[39;49;00m\n",
            "\u001b[37m        \u001b[39;49;00m\u001b[94m\"dewpoint_c\"\u001b[39;49;00m:\u001b[37m \u001b[39;49;00m\u001b[34m11.3\u001b[39;49;00m,\u001b[37m\u001b[39;49;00m\n",
            "\u001b[37m        \u001b[39;49;00m\u001b[94m\"dewpoint_f\"\u001b[39;49;00m:\u001b[37m \u001b[39;49;00m\u001b[34m52.3\u001b[39;49;00m,\u001b[37m\u001b[39;49;00m\n",
            "\u001b[37m        \u001b[39;49;00m\u001b[94m\"vis_km\"\u001b[39;49;00m:\u001b[37m \u001b[39;49;00m\u001b[34m6.4\u001b[39;49;00m,\u001b[37m\u001b[39;49;00m\n",
            "\u001b[37m        \u001b[39;49;00m\u001b[94m\"vis_miles\"\u001b[39;49;00m:\u001b[37m \u001b[39;49;00m\u001b[34m3.0\u001b[39;49;00m,\u001b[37m\u001b[39;49;00m\n",
            "\u001b[37m        \u001b[39;49;00m\u001b[94m\"uv\"\u001b[39;49;00m:\u001b[37m \u001b[39;49;00m\u001b[34m7.3\u001b[39;49;00m,\u001b[37m\u001b[39;49;00m\n",
            "\u001b[37m        \u001b[39;49;00m\u001b[94m\"gust_mph\"\u001b[39;49;00m:\u001b[37m \u001b[39;49;00m\u001b[34m6.6\u001b[39;49;00m,\u001b[37m\u001b[39;49;00m\n",
            "\u001b[37m        \u001b[39;49;00m\u001b[94m\"gust_kph\"\u001b[39;49;00m:\u001b[37m \u001b[39;49;00m\u001b[34m10.5\u001b[39;49;00m\u001b[37m\u001b[39;49;00m\n",
            "\u001b[37m    \u001b[39;49;00m}\u001b[37m\u001b[39;49;00m\n",
            "}\u001b[37m\u001b[39;49;00m\n",
            "\n"
          ]
        }
      ]
    },
    {
      "cell_type": "code",
      "source": [],
      "metadata": {
        "id": "OnJS5mINp1ky"
      },
      "execution_count": null,
      "outputs": []
    }
  ]
}